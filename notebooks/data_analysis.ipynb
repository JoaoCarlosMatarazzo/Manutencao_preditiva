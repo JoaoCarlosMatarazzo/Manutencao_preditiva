{
 "cells": [
  {
   "cell_type": "code",
   "execution_count": null,
   "metadata": {},
   "outputs": [],
   "source": [
    "import pandas as pd\n",
    "import matplotlib.pyplot as plt\n",
    "import seaborn as sns\n",
    "\n",
    "# Caminho para o arquivo de dados processados\n",
    "file_path = 'data/processed_dataset.csv'\n",
    "# Carregar os dados\n",
    "df = pd.read_csv(file_path)\n",
    "# Exibir as primeiras linhas do dataframe\n",
    "df.head()\n",
    "df.describe()\n",
    "# Histograma das variáveis numéricas\n",
    "df[['feature1', 'feature2', 'feature_sum', 'feature_diff']].hist(bins=30, figsize=(10, 7))\n",
    "plt.tight_layout()\n",
    "plt.show()\n",
    "# Matriz de correlação\n",
    "corr_matrix = df[['feature1', 'feature2', 'feature_sum', 'feature_diff', 'label']].corr()\n",
    "# Mapa de calor da correlação\n",
    "plt.figure(figsize=(8, 6))\n",
    "sns.heatmap(corr_matrix, annot=True, cmap='coolwarm', fmt='.2f', linewidths=0.5)\n",
    "plt.title('Matriz de Correlação')\n",
    "plt.show()\n",
    "# Distribuição da variável alvo\n",
    "plt.figure(figsize=(6, 4))\n",
    "sns.countplot(x='label', data=df)\n",
    "plt.title('Distribuição da Variável Alvo')\n",
    "plt.show()\n",
    "# Relação entre 'feature1' e 'label'\n",
    "plt.figure(figsize=(8, 6))\n",
    "sns.boxplot(x='label', y='feature1', data=df)\n",
    "plt.title('Distribuição de Feature1 por Label')\n",
    "plt.show()\n",
    "# Relação entre 'feature2' e 'label'\n",
    "plt.figure(figsize=(8, 6))\n",
    "sns.boxplot(x='label', y='feature2', data=df)\n",
    "plt.title('Distribuição de Feature2 por Label')\n",
    "plt.show()\n"
   ]
  }
 ],
 "metadata": {
  "language_info": {
   "name": "python"
  }
 },
 "nbformat": 4,
 "nbformat_minor": 2
}
